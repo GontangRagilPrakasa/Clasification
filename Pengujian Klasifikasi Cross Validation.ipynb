{
 "cells": [
  {
   "cell_type": "code",
   "execution_count": 15,
   "metadata": {
    "collapsed": true
   },
   "outputs": [],
   "source": [
    "#mengambil package numpy\n",
    "#jika \"no module numpy\" silahkan install packagenya terlebih dahulu\"\n",
    "import numpy as np\n",
    "#jika \"no module sklearn\" silahkan install packagenya terlebih dahulu\"\n",
    "from sklearn.model_selection import train_test_split\n",
    "from sklearn import datasets\n",
    "from sklearn.naive_bayes import GaussianNB\n",
    "#pengujian cross validation\n",
    "from sklearn.model_selection import cross_val_score"
   ]
  },
  {
   "cell_type": "code",
   "execution_count": 16,
   "metadata": {},
   "outputs": [
    {
     "data": {
      "text/plain": [
       "((150, 4), (150,))"
      ]
     },
     "execution_count": 16,
     "metadata": {},
     "output_type": "execute_result"
    }
   ],
   "source": [
    "#dataset iris berisi 150 data dengan jumlah atribut adalah 4. Data set iris merupakan data set bunga\n",
    "#kumdian lakukanlah load data iris\n",
    "iris = datasets.load_iris()\n",
    "#kemudian jika ingin melihat dimensi data tersebut\n",
    "iris.data.shape, iris.target.shape"
   ]
  },
  {
   "cell_type": "code",
   "execution_count": 17,
   "metadata": {},
   "outputs": [
    {
     "data": {
      "text/plain": [
       "(60,)"
      ]
     },
     "execution_count": 17,
     "metadata": {},
     "output_type": "execute_result"
    }
   ],
   "source": [
    "#didalam library scikit learn pada PYthon menyediakan fungsi untuk membagi data menjadi data training\n",
    "#data testing. Fungsi ini adalah train_test_split dimana paramternya adalah atribut data yang akan\n",
    "#displit, kelas data yang akan displit , jumlah data testing yang dikehendaki\n",
    "Atribut_Training, Atribut_Testing, Kelas_Training,Kelas_Testing= train_test_split (iris.data,iris.target,test_size=0.4 , random_state=0)\n",
    "#kemudian kita cek dimensi dari setiap atribut dan kelas\n",
    "Atribut_Training.shape\n",
    "Atribut_Testing.shape\n",
    "Kelas_Training.shape\n",
    "Kelas_Testing.shape\n",
    "#Perhatikan kita memilih test_size = 0.4 artinya kita menggunakan 40% data dari data iris sebagai data\n",
    "#testing, sedangkan 60% lainnya digunakan sebagai data training"
   ]
  },
  {
   "cell_type": "code",
   "execution_count": 18,
   "metadata": {
    "collapsed": true
   },
   "outputs": [],
   "source": [
    "#Selanjutnya kita akan menjalan algoritma Naive Bayes untuk membuat model klasifikasi pada data training\n",
    "#Caranya dengan mamanggil BaussianNB() kemudian panggil fungsi fit()\n",
    "gnb = GaussianNB()\n",
    "klasifikasi = gnb.fit(Atribut_Training,Kelas_Training)"
   ]
  },
  {
   "cell_type": "code",
   "execution_count": 19,
   "metadata": {},
   "outputs": [
    {
     "data": {
      "text/plain": [
       "0.9333333333333333"
      ]
     },
     "execution_count": 19,
     "metadata": {},
     "output_type": "execute_result"
    }
   ],
   "source": [
    "#Kemudian langkah selanjutnya kita melakukan prediksi pada data testing dan melihat skor akurasi\n",
    "#Prediksinya\n",
    "klasifikasi.score(Atribut_Testing,Kelas_Testing)\n",
    "#Dengan skor akurasi yang tinggi ini, artinya Naive Bayes cocok digunakan untuk melakukan klasifikasi\n",
    "#pada dataset iris"
   ]
  },
  {
   "cell_type": "code",
   "execution_count": 26,
   "metadata": {},
   "outputs": [
    {
     "data": {
      "text/plain": [
       "array([0.93333333, 0.93333333, 1.        , 0.93333333, 0.93333333,\n",
       "       0.93333333, 0.86666667, 1.        , 1.        , 1.        ])"
      ]
     },
     "execution_count": 26,
     "metadata": {},
     "output_type": "execute_result"
    }
   ],
   "source": [
    "#Kemudian kita melakukan pengujian cross validation untuk kasus yang sama\n",
    "#Disini kita melakukan 10 kali pengujian\n",
    "#Library Scikit Learn sudah menyediakan fungsi untuk cross validation yaitu dengan cross_val_score\n",
    "akurasi_cross_val = cross_val_score(klasifikasi,iris.data,iris.target,cv=10)\n",
    "akurasi_cross_val\n",
    "#kita lakukan cross validation sebanyak 10kali"
   ]
  },
  {
   "cell_type": "code",
   "execution_count": 27,
   "metadata": {},
   "outputs": [
    {
     "data": {
      "text/plain": [
       "0.9533333333333334"
      ]
     },
     "execution_count": 27,
     "metadata": {},
     "output_type": "execute_result"
    }
   ],
   "source": [
    "#kemudian kita lihat akurasi pada masing masing iterasi serta unutk menghitung rata-rata akurasinya\n",
    "akurasi = akurasi_cross_val.mean()\n",
    "akurasi"
   ]
  },
  {
   "cell_type": "markdown",
   "metadata": {},
   "source": [
    "<h1> Study Kasus </h1><br>\n",
    "Dengan cara yang sama silahkan lakukan dengan cross validation pada klasifikasi Naive Byaes pada dataset Cancer <br>\n",
    "        Cancer = datasets.load_breast_cancer() <br>\n",
    "Hitunglah rata rata akurasinya dengan 5 kali cross validation"
   ]
  },
  {
   "cell_type": "code",
   "execution_count": 28,
   "metadata": {},
   "outputs": [
    {
     "data": {
      "text/plain": [
       "((569, 30), (569,))"
      ]
     },
     "execution_count": 28,
     "metadata": {},
     "output_type": "execute_result"
    }
   ],
   "source": [
    "cancer = datasets.load_breast_cancer()\n",
    "cancer.data.shape , cancer.target.shape"
   ]
  },
  {
   "cell_type": "code",
   "execution_count": 30,
   "metadata": {},
   "outputs": [],
   "source": [
    "Atribut_Training, Atribut_Testing, Kelas_Training, Kelas_Testing = train_test_split (cancer.data, cancer.target, test_size=0.4, random_state=0)"
   ]
  },
  {
   "cell_type": "code",
   "execution_count": 45,
   "metadata": {},
   "outputs": [
    {
     "name": "stdout",
     "output_type": "stream",
     "text": [
      "0.9298245614035088\n"
     ]
    }
   ],
   "source": [
    "gnbcancer = GaussianNB()\n",
    "klasifikasicancer = gnbcancer.fit(Atribut_Training,Kelas_Training)\n",
    "print (klasifikasicancer.score(Atribut_Testing,Kelas_Testing))\n"
   ]
  },
  {
   "cell_type": "code",
   "execution_count": 46,
   "metadata": {},
   "outputs": [
    {
     "data": {
      "text/plain": [
       "array([0.92173913, 0.92173913, 0.95575221, 0.94690265, 0.95575221])"
      ]
     },
     "execution_count": 46,
     "metadata": {},
     "output_type": "execute_result"
    }
   ],
   "source": [
    "akurasi_cross_val = cross_val_score(klasifikasicancer,cancer.data,cancer.target,cv=5)\n",
    "akurasi_cross_val"
   ]
  },
  {
   "cell_type": "code",
   "execution_count": 47,
   "metadata": {},
   "outputs": [
    {
     "data": {
      "text/plain": [
       "0.9403770681031165"
      ]
     },
     "execution_count": 47,
     "metadata": {},
     "output_type": "execute_result"
    }
   ],
   "source": [
    "akurasicancer = akurasi_cross_val.mean()\n",
    "akurasicancer"
   ]
  },
  {
   "cell_type": "code",
   "execution_count": null,
   "metadata": {
    "collapsed": true
   },
   "outputs": [],
   "source": []
  }
 ],
 "metadata": {
  "kernelspec": {
   "display_name": "Python 3",
   "language": "python",
   "name": "python3"
  },
  "language_info": {
   "codemirror_mode": {
    "name": "ipython",
    "version": 3
   },
   "file_extension": ".py",
   "mimetype": "text/x-python",
   "name": "python",
   "nbconvert_exporter": "python",
   "pygments_lexer": "ipython3",
   "version": "3.6.3"
  }
 },
 "nbformat": 4,
 "nbformat_minor": 2
}
